{
 "cells": [
  {
   "cell_type": "markdown",
   "metadata": {},
   "source": [
    "# Setting Up"
   ]
  },
  {
   "cell_type": "code",
   "execution_count": null,
   "metadata": {},
   "outputs": [],
   "source": [
    "! pip install --upgrade plotly\n",
    "! pip install --upgrade nbformat\n"
   ]
  },
  {
   "cell_type": "code",
   "execution_count": null,
   "metadata": {},
   "outputs": [],
   "source": [
    "# Define the current path\n",
    "from pathlib import Path\n",
    "root = Path.cwd() / 'data'\n"
   ]
  },
  {
   "cell_type": "code",
   "execution_count": null,
   "metadata": {},
   "outputs": [],
   "source": [
    "# define the local path\n",
    "vec_path = root / '5.0minivec'\n"
   ]
  },
  {
   "cell_type": "markdown",
   "metadata": {},
   "source": [
    "# Define func"
   ]
  },
  {
   "cell_type": "code",
   "execution_count": null,
   "metadata": {},
   "outputs": [],
   "source": [
    "from plotly.express import scatter_3d\n",
    "import pandas as pd\n"
   ]
  },
  {
   "cell_type": "code",
   "execution_count": null,
   "metadata": {},
   "outputs": [],
   "source": [
    "def plt(path):\n",
    "    df = pd.read_csv(path, sep='\\t')\n",
    "    dot = scatter_3d(df, x='x', y='y', z='z',\n",
    "                     hover_data=['word'],\n",
    "                     color='discipline',\n",
    "                     opacity=0.7,\n",
    "                     # template=\"simple_white\"\n",
    "                     )\n",
    "    dot.show()\n"
   ]
  },
  {
   "cell_type": "markdown",
   "metadata": {},
   "source": [
    "# Visualize"
   ]
  },
  {
   "cell_type": "code",
   "execution_count": null,
   "metadata": {},
   "outputs": [],
   "source": [
    "from glob import glob\n",
    "\n",
    "for f in glob(str(vec_path / '*.tsv')):\n",
    "    plt(f)\n"
   ]
  }
 ],
 "metadata": {
  "interpreter": {
   "hash": "226b3f95c647feb1119f3560c9ee523f0a99a0fdc12064dbdef3109b9cfc2296"
  },
  "kernelspec": {
   "display_name": "Python 3.9.7 64-bit ('stable': conda)",
   "language": "python",
   "name": "python3"
  },
  "language_info": {
   "codemirror_mode": {
    "name": "ipython",
    "version": 3
   },
   "file_extension": ".py",
   "mimetype": "text/x-python",
   "name": "python",
   "nbconvert_exporter": "python",
   "pygments_lexer": "ipython3",
   "version": "3.10.0"
  },
  "orig_nbformat": 4
 },
 "nbformat": 4,
 "nbformat_minor": 2
}
