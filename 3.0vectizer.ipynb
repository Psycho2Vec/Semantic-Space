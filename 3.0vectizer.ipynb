{
 "cells": [
  {
   "cell_type": "markdown",
   "metadata": {},
   "source": [
    "# Setting Up"
   ]
  },
  {
   "cell_type": "code",
   "execution_count": null,
   "metadata": {},
   "outputs": [],
   "source": [
    "! pip install --upgrade gensim\n",
    "! pip install --upgrade pandas\n"
   ]
  },
  {
   "cell_type": "code",
   "execution_count": null,
   "metadata": {},
   "outputs": [],
   "source": [
    "# Define the current path\n",
    "from pathlib import Path\n",
    "root = Path.cwd() / 'data'\n"
   ]
  },
  {
   "cell_type": "code",
   "execution_count": null,
   "metadata": {},
   "outputs": [],
   "source": [
    "# define the local path\n",
    "token_path = root / '1.1meld' / 'meld.pkl'\n",
    "save_path = root / '3.0vec'\n"
   ]
  },
  {
   "cell_type": "markdown",
   "metadata": {},
   "source": [
    "# Define func"
   ]
  },
  {
   "cell_type": "code",
   "execution_count": null,
   "metadata": {},
   "outputs": [],
   "source": [
    "import pickle\n",
    "\n",
    "with open(token_path, \"rb\")as f:\n",
    "    token_list = pickle.load(f)\n",
    "\n",
    "for i in range(2):\n",
    "    print(token_list[i])\n"
   ]
  },
  {
   "cell_type": "code",
   "execution_count": null,
   "metadata": {},
   "outputs": [],
   "source": [
    "from gensim.models import FastText\n",
    "\n",
    "\n",
    "def fast(list):\n",
    "    \"\"\"Execute fasttext training\"\"\"\n",
    "    global fast_model\n",
    "    fast_model = FastText(sentences=list,  # The sentences iterable\n",
    "                          sg=1,  # skipgrams\n",
    "                          vector_size=128,  # Dimensionality of the word vectors\n",
    "                          window=5,  # Max distance between the current and predicted word\n",
    "                          epochs=10,\n",
    "                          max_vocab_size=None,\n",
    "                          min_count=3)\n",
    "\n",
    "    print(fast_model.wv.vectors.shape)  # Check the shape of vectors\n"
   ]
  },
  {
   "cell_type": "markdown",
   "metadata": {},
   "source": [
    "# Execution"
   ]
  },
  {
   "cell_type": "code",
   "execution_count": null,
   "metadata": {},
   "outputs": [],
   "source": [
    "fast(token_list)\n"
   ]
  },
  {
   "cell_type": "markdown",
   "metadata": {},
   "source": [
    "# Confirm results"
   ]
  },
  {
   "cell_type": "markdown",
   "metadata": {},
   "source": [
    "vector data as a data flame"
   ]
  },
  {
   "cell_type": "code",
   "execution_count": null,
   "metadata": {},
   "outputs": [],
   "source": [
    "import pandas as pd\n"
   ]
  },
  {
   "cell_type": "code",
   "execution_count": null,
   "metadata": {},
   "outputs": [],
   "source": [
    "fast_vec = pd.DataFrame(fast_model.wv.vectors)\n",
    "fast_vec.name = 'fast_vec'\n"
   ]
  },
  {
   "cell_type": "markdown",
   "metadata": {},
   "source": [
    "word data as a data flame"
   ]
  },
  {
   "cell_type": "code",
   "execution_count": null,
   "metadata": {},
   "outputs": [],
   "source": [
    "fast_met = pd.DataFrame(fast_model.wv.index_to_key)\n",
    "fast_met.name = 'fast_met'\n"
   ]
  },
  {
   "cell_type": "markdown",
   "metadata": {},
   "source": [
    "# Save Results"
   ]
  },
  {
   "cell_type": "code",
   "execution_count": null,
   "metadata": {},
   "outputs": [],
   "source": [
    "def tsv(df):\n",
    "    \"\"\"Save df as TSV file\"\"\"\n",
    "    with open(save_path / str(df.name + '.tsv'), 'w', newline='\\n') as s:\n",
    "        df.to_csv(s,\n",
    "                  sep='\\t',\n",
    "                  index=False,\n",
    "                  header=None)\n"
   ]
  },
  {
   "cell_type": "code",
   "execution_count": null,
   "metadata": {},
   "outputs": [],
   "source": [
    "tsv(fast_vec)\n",
    "tsv(fast_met)\n"
   ]
  }
 ],
 "metadata": {
  "interpreter": {
   "hash": "47170f32a5cfbdb75e2157734e211277bae83e195b8619603d1cb8da49e7502a"
  },
  "kernelspec": {
   "display_name": "Python 3.9.8 64-bit",
   "language": "python",
   "name": "python3"
  },
  "language_info": {
   "codemirror_mode": {
    "name": "ipython",
    "version": 3
   },
   "file_extension": ".py",
   "mimetype": "text/x-python",
   "name": "python",
   "nbconvert_exporter": "python",
   "pygments_lexer": "ipython3",
   "version": "3.10.0"
  },
  "orig_nbformat": 4
 },
 "nbformat": 4,
 "nbformat_minor": 2
}
