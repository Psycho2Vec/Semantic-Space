{
 "cells": [
  {
   "cell_type": "markdown",
   "metadata": {
    "id": "WlZeNbRMk_Fs"
   },
   "source": [
    "# Setting Up"
   ]
  },
  {
   "cell_type": "code",
   "execution_count": null,
   "metadata": {},
   "outputs": [],
   "source": [
    "! pip install --upgrade arxiv\n"
   ]
  },
  {
   "cell_type": "code",
   "execution_count": null,
   "metadata": {},
   "outputs": [],
   "source": [
    "# Define the current path\n",
    "from pathlib import Path\n",
    "root = Path.cwd() / 'data'\n"
   ]
  },
  {
   "cell_type": "code",
   "execution_count": null,
   "metadata": {},
   "outputs": [],
   "source": [
    "# define the local path\n",
    "txt_path = root / '1.0txt'\n",
    "meld_path = root / '1.1meld' / 'meld.txt'\n",
    "token_list_path = root / '1.1meld' / 'token_list.pkl'\n",
    "\n",
    "\n",
    "# Define Disciplines list\n",
    "d_list = ['cs.AI', 'econ.EM', 'eess.AS', 'math.AC', 'astro-ph', 'q-bio']\n"
   ]
  },
  {
   "cell_type": "markdown",
   "metadata": {},
   "source": [
    "# Scrape from ArXiv"
   ]
  },
  {
   "cell_type": "markdown",
   "metadata": {
    "id": "BXUD7R1RlJ59"
   },
   "source": [
    "## Define scraping func"
   ]
  },
  {
   "cell_type": "code",
   "execution_count": null,
   "metadata": {},
   "outputs": [],
   "source": [
    "from arxiv import Search\n",
    "from arxiv import SortCriterion\n",
    "\n",
    "\n",
    "def scrape(disp):\n",
    "    \"\"\"Execute scraping and save text on the path\"\"\"\n",
    "    d = Search(query='cat:' + disp,\n",
    "                     max_results=200,\n",
    "                     sort_by=SortCriterion.SubmittedDate)\n",
    "\n",
    "    with open(txt_path / str(disp + '.txt'), 'w') as c:\n",
    "        for paper in d.results():\n",
    "            c.write(paper.summary)\n"
   ]
  },
  {
   "cell_type": "markdown",
   "metadata": {
    "id": "RZuF_TSDpjIo"
   },
   "source": [
    "## Execution"
   ]
  },
  {
   "cell_type": "code",
   "execution_count": null,
   "metadata": {
    "id": "OzSSSJg-nXgh"
   },
   "outputs": [],
   "source": [
    "for i in d_list:\n",
    "    scrape(i)\n"
   ]
  },
  {
   "cell_type": "markdown",
   "metadata": {
    "id": "-rZ_sjvj9TYR"
   },
   "source": [
    "# Merge all the .txt file and Save"
   ]
  },
  {
   "cell_type": "code",
   "execution_count": null,
   "metadata": {
    "id": "MuBR1ScqDqUa"
   },
   "outputs": [],
   "source": [
    "from glob import glob\n",
    "\n",
    "with open(meld_path, 'w') as meld:\n",
    "    texts = glob(str(txt_path / '*.txt'))\n",
    "    for f in texts:\n",
    "        with open(f) as f_old:\n",
    "            meld.write(f_old.read())\n"
   ]
  }
 ],
 "metadata": {
  "colab": {
   "authorship_tag": "ABX9TyPmWQSQYTBRCnLsagJyDFuX",
   "collapsed_sections": [
    "WlZeNbRMk_Fs",
    "hxvvUCsmlcfU"
   ],
   "mount_file_id": "1yFpAow0TBUdcMXKn1ZFG3jMB5xakW8JL",
   "name": "1-scrape&Save.ipynb",
   "provenance": []
  },
  "kernelspec": {
   "display_name": "Python 3",
   "name": "python3"
  },
  "language_info": {
   "codemirror_mode": {
    "name": "ipython",
    "version": 3
   },
   "file_extension": ".py",
   "mimetype": "text/x-python",
   "name": "python",
   "nbconvert_exporter": "python",
   "pygments_lexer": "ipython3",
   "version": "3.10.0"
  }
 },
 "nbformat": 4,
 "nbformat_minor": 0
}
