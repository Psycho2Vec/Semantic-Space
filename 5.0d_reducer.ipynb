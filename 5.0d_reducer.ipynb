{
 "cells": [
  {
   "cell_type": "markdown",
   "metadata": {},
   "source": [
    "# Setting up"
   ]
  },
  {
   "cell_type": "code",
   "execution_count": null,
   "metadata": {},
   "outputs": [],
   "source": [
    "! pip install umap-learn\n",
    "! pip install pandas\n"
   ]
  },
  {
   "cell_type": "code",
   "execution_count": null,
   "metadata": {},
   "outputs": [],
   "source": [
    "# Define the current path\n",
    "from pathlib import Path\n",
    "root = Path.cwd() / 'data'\n"
   ]
  },
  {
   "cell_type": "code",
   "execution_count": null,
   "metadata": {},
   "outputs": [],
   "source": [
    "# define the local path\n",
    "vec_path = root / '3.0vec' / 'fast_vec.tsv'\n",
    "metlab_path = root / '3.0vec' / 'fast_met_lab.tsv'\n",
    "save_path = root / '5.0minivec'\n"
   ]
  },
  {
   "cell_type": "markdown",
   "metadata": {},
   "source": [
    "# Load data"
   ]
  },
  {
   "cell_type": "markdown",
   "metadata": {},
   "source": [
    "load vector data"
   ]
  },
  {
   "cell_type": "code",
   "execution_count": null,
   "metadata": {},
   "outputs": [],
   "source": [
    "import pandas as pd\n"
   ]
  },
  {
   "cell_type": "code",
   "execution_count": null,
   "metadata": {},
   "outputs": [],
   "source": [
    "df_vec = pd.read_csv(vec_path, sep='\\t', header=None)\n",
    "df_metlab = pd.read_csv(metlab_path, sep='\\t')\n"
   ]
  },
  {
   "cell_type": "markdown",
   "metadata": {},
   "source": [
    "# Define func"
   ]
  },
  {
   "cell_type": "code",
   "execution_count": null,
   "metadata": {},
   "outputs": [],
   "source": [
    "from sklearn.manifold import TSNE\n",
    "\n",
    "\n",
    "def tsne(v):\n",
    "    \"\"\"get df and return 2or3 D data based on TSNE\"\"\"\n",
    "    tsne = TSNE(n_components=2,  # Dimension of the embedded space\n",
    "                perplexity=600,\n",
    "                learning_rate='auto',\n",
    "                n_iter=5000,  # Maximum number of iterations\n",
    "                init='pca'  # Initialization of embedding\n",
    "                )\n",
    "\n",
    "    df_tsne = tsne.fit_transform(v)  # execute tsne\n",
    "    df_tsne = pd.DataFrame(df_tsne, columns=['x', 'y'])  # Rename labels\n",
    "\n",
    "    # Combine tsne-d data with meta & label\n",
    "    global df_tsne_metlab\n",
    "    df_tsne_metlab = df_metlab.join(df_tsne)\n",
    "    df_tsne_metlab.name = 'df_tsne_metlab'\n",
    "\n",
    "    # Delete words with label 'general'\n",
    "    global df_tsne_drop\n",
    "    df_tsne_drop = df_tsne_metlab.set_index(\n",
    "        ['word', 'discipline']).drop('general', level='discipline')\n",
    "    df_tsne_drop = df_tsne_drop.reset_index()\n",
    "    df_tsne_drop.name = 'df_tsne_drop'\n"
   ]
  },
  {
   "cell_type": "code",
   "execution_count": null,
   "metadata": {},
   "outputs": [],
   "source": [
    "import umap\n",
    "\n",
    "\n",
    "def umap_go(v):\n",
    "    mapper = umap.UMAP(random_state=0,\n",
    "                       n_neighbors=10,\n",
    "                       min_dist=0.0,\n",
    "                       n_components=2,\n",
    "                       )\n",
    "\n",
    "    df_umap = mapper.fit_transform(v)\n",
    "    df_tsne = pd.DataFrame(df_umap, columns=['x', 'y'])  # Rename labels\n",
    "\n",
    "    # Combine tsne-d data with meta & label\n",
    "    global df_umap_metlab\n",
    "    df_umap_metlab = df_metlab.join(df_tsne)\n",
    "    df_umap_metlab.name = 'df_umap_metlab'\n",
    "\n",
    "    # Delete words with label 'general'\n",
    "    global df_umap_drop\n",
    "    df_umap_drop = df_umap_metlab.set_index(\n",
    "        ['word', 'discipline']).drop('general', level='discipline')\n",
    "    df_umap_drop = df_umap_drop.reset_index()\n",
    "    df_umap_drop.name = 'df_umap_drop'\n"
   ]
  },
  {
   "cell_type": "code",
   "execution_count": null,
   "metadata": {},
   "outputs": [],
   "source": [
    "def tsv(df):\n",
    "    path = df.name + '.tsv'\n",
    "    with open(save_path / path, 'w', newline='\\n') as s:\n",
    "        df.to_csv(s,\n",
    "                  sep='\\t',\n",
    "                  index=False)\n"
   ]
  },
  {
   "cell_type": "markdown",
   "metadata": {},
   "source": [
    "# Execute"
   ]
  },
  {
   "cell_type": "markdown",
   "metadata": {},
   "source": [
    "T-SNE"
   ]
  },
  {
   "cell_type": "code",
   "execution_count": null,
   "metadata": {},
   "outputs": [],
   "source": [
    "tsne(df_vec)\n",
    "tsv(df_tsne_metlab)\n",
    "tsv(df_tsne_drop)\n"
   ]
  },
  {
   "cell_type": "markdown",
   "metadata": {},
   "source": [
    "UMAP"
   ]
  },
  {
   "cell_type": "code",
   "execution_count": null,
   "metadata": {},
   "outputs": [],
   "source": [
    "umap_go(df_vec)\n",
    "tsv(df_umap_metlab)\n",
    "tsv(df_umap_drop)\n"
   ]
  }
 ],
 "metadata": {
  "interpreter": {
   "hash": "47170f32a5cfbdb75e2157734e211277bae83e195b8619603d1cb8da49e7502a"
  },
  "kernelspec": {
   "display_name": "Python 3.9.8 64-bit",
   "language": "python",
   "name": "python3"
  },
  "language_info": {
   "codemirror_mode": {
    "name": "ipython",
    "version": 3
   },
   "file_extension": ".py",
   "mimetype": "text/x-python",
   "name": "python",
   "nbconvert_exporter": "python",
   "pygments_lexer": "ipython3",
   "version": "3.10.0"
  },
  "orig_nbformat": 4
 },
 "nbformat": 4,
 "nbformat_minor": 2
}
