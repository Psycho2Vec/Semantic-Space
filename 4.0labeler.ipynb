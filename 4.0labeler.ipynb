{
 "cells": [
  {
   "cell_type": "markdown",
   "metadata": {
    "id": "cluwRd3qR6If"
   },
   "source": [
    "# Setting up"
   ]
  },
  {
   "cell_type": "code",
   "execution_count": null,
   "metadata": {},
   "outputs": [],
   "source": [
    "! pip install sklearn\n"
   ]
  },
  {
   "cell_type": "code",
   "execution_count": null,
   "metadata": {},
   "outputs": [],
   "source": [
    "# Define the current path\n",
    "from pathlib import Path\n",
    "root = Path.cwd() / 'data'\n"
   ]
  },
  {
   "cell_type": "code",
   "execution_count": null,
   "metadata": {},
   "outputs": [],
   "source": [
    "# Define the local path\n",
    "txt_path = root / '1.0txt'\n",
    "met_path = root / '3.0vec' / 'fast_met.tsv'\n",
    "save_path = root / '3.0vec' / 'fast_met_lab.tsv'\n",
    "\n",
    "\n",
    "d_list = ['cs.AI', 'econ.EM', 'eess.AS', 'math.AC', 'astro-ph', 'q-bio']\n"
   ]
  },
  {
   "cell_type": "markdown",
   "metadata": {
    "id": "YDhiDmOdR_ze"
   },
   "source": [
    "# Load meta"
   ]
  },
  {
   "cell_type": "code",
   "execution_count": null,
   "metadata": {
    "colab": {
     "base_uri": "https://localhost:8080/"
    },
    "executionInfo": {
     "elapsed": 306,
     "status": "ok",
     "timestamp": 1635493834268,
     "user": {
      "displayName": "KENTARO HAYASHI",
      "photoUrl": "https://lh3.googleusercontent.com/a-/AOh14GgTbq0-1W7OuBx8EA68gzltvHB7TM8pUgoh4H6D5g=s64",
      "userId": "18324347410939880493"
     },
     "user_tz": -540
    },
    "id": "3XmlztapRF88",
    "outputId": "ddf1859b-8c6f-4243-85fc-2ba1d1113db5"
   },
   "outputs": [],
   "source": [
    "import pandas as pd\n",
    "df_met = pd.read_table(met_path, names=['word'])\n",
    "df_met\n",
    "\n",
    "met_ls = list(df_met['word'])\n"
   ]
  },
  {
   "cell_type": "markdown",
   "metadata": {
    "id": "QS9dSHEAToX4"
   },
   "source": [
    "# Load label"
   ]
  },
  {
   "cell_type": "code",
   "execution_count": null,
   "metadata": {},
   "outputs": [],
   "source": [
    "import pickle\n",
    "import itertools\n",
    "\n",
    "\n",
    "def getstr(path):\n",
    "    '''get .pkl file, extract lists and return str of words'''\n",
    "    with open(path, 'rb')as f:\n",
    "        ls = pickle.load(f)\n",
    "        ls = list(itertools.chain.from_iterable(ls))\n",
    "        words = ' '.join(ls)\n",
    "    return words\n"
   ]
  },
  {
   "cell_type": "code",
   "execution_count": null,
   "metadata": {},
   "outputs": [],
   "source": [
    "from sklearn.feature_extraction.text import TfidfVectorizer\n",
    "import pandas as pd\n",
    "\n",
    "\n",
    "def tfidf():\n",
    "    \"\"\"execute tfidf and return result as Data Flame\"\"\"\n",
    "    docs = []\n",
    "    for i in d_list:\n",
    "        docs.append(getstr(txt_path / str(i+'.pkl')))\n",
    "\n",
    "    # build a model\n",
    "    vectorizer = TfidfVectorizer(smooth_idf=False)\n",
    "    X = vectorizer.fit_transform(docs)\n",
    "\n",
    "    # convert to the data frame\n",
    "    values = X.toarray()\n",
    "    feature_names = vectorizer.get_feature_names_out()\n",
    "    global df_all\n",
    "    df_all = pd.DataFrame(values.T, index=feature_names)\n",
    "    return(df_all)\n",
    "\n",
    "\n",
    "tfidf()\n"
   ]
  },
  {
   "cell_type": "code",
   "execution_count": null,
   "metadata": {},
   "outputs": [],
   "source": [
    "def lab():\n",
    "    \"\"\"Create a label for each words in metadata based on tfidf and return labeled meta as Data Flame\"\"\"\n",
    "    df_lab = pd.DataFrame(\n",
    "        {'word': met_ls, 'discipline': None}).set_index('word')\n",
    "\n",
    "    t = 0.03\n",
    "    err = 0\n",
    "\n",
    "    for s in df_lab.index:\n",
    "        if s in df_all.index:\n",
    "            # general\n",
    "            count = 0\n",
    "            for i in range(len(d_list)):\n",
    "                if df_all.loc[s, i] < t:\n",
    "                    count += 1\n",
    "            if count == len(d_list):\n",
    "                df_lab.loc[s, 'discipline'] = 'general'\n",
    "\n",
    "            else:\n",
    "                max = 0\n",
    "                maxdisp = 0\n",
    "                for i in range(len(d_list)):\n",
    "                    if df_all.loc[s, i] > max:\n",
    "                        max = df_all.loc[s, i]\n",
    "                        maxdisp = i\n",
    "                df_lab.loc[s, 'discipline'] = d_list[maxdisp]\n",
    "\n",
    "        else:\n",
    "            err += 1\n",
    "            df_lab.loc[s, 'discipline'] = 'general'\n",
    "    print(err)\n",
    "\n",
    "    return df_lab\n"
   ]
  },
  {
   "cell_type": "markdown",
   "metadata": {
    "id": "C_TvHrmof_A0"
   },
   "source": [
    "# Combine Meta and Label"
   ]
  },
  {
   "cell_type": "code",
   "execution_count": null,
   "metadata": {
    "colab": {
     "base_uri": "https://localhost:8080/",
     "height": 424
    },
    "executionInfo": {
     "elapsed": 267,
     "status": "ok",
     "timestamp": 1635493847980,
     "user": {
      "displayName": "KENTARO HAYASHI",
      "photoUrl": "https://lh3.googleusercontent.com/a-/AOh14GgTbq0-1W7OuBx8EA68gzltvHB7TM8pUgoh4H6D5g=s64",
      "userId": "18324347410939880493"
     },
     "user_tz": -540
    },
    "id": "73MrVCzFbi0j",
    "outputId": "4aea118d-6a00-4c69-88b0-82b2ded7fa2b"
   },
   "outputs": [],
   "source": [
    "df_metlab = df_met.merge(lab(), how='left', on='word')\n",
    "df_metlab\n"
   ]
  },
  {
   "cell_type": "markdown",
   "metadata": {
    "id": "0NN8zjLnmAeI"
   },
   "source": [
    "# Export as TSV"
   ]
  },
  {
   "cell_type": "code",
   "execution_count": null,
   "metadata": {
    "executionInfo": {
     "elapsed": 246,
     "status": "ok",
     "timestamp": 1635493857409,
     "user": {
      "displayName": "KENTARO HAYASHI",
      "photoUrl": "https://lh3.googleusercontent.com/a-/AOh14GgTbq0-1W7OuBx8EA68gzltvHB7TM8pUgoh4H6D5g=s64",
      "userId": "18324347410939880493"
     },
     "user_tz": -540
    },
    "id": "v-13BI8WmMTG"
   },
   "outputs": [],
   "source": [
    "with open(save_path, 'w', newline='\\n') as s:\n",
    "    df_metlab.to_csv(s,\n",
    "                     sep='\\t',\n",
    "                     index=False)\n"
   ]
  }
 ],
 "metadata": {
  "colab": {
   "authorship_tag": "ABX9TyN6InID+vgji3JT3rt2sDSf",
   "collapsed_sections": [
    "cluwRd3qR6If",
    "YDhiDmOdR_ze",
    "QS9dSHEAToX4",
    "C_TvHrmof_A0"
   ],
   "mount_file_id": "1RU2HvV_n6LxLZy6vw3JDIz5grjFaqQuA",
   "name": "5-combine-label-and-words.ipynb",
   "provenance": []
  },
  "kernelspec": {
   "display_name": "Python 3",
   "name": "python3"
  },
  "language_info": {
   "codemirror_mode": {
    "name": "ipython",
    "version": 3
   },
   "file_extension": ".py",
   "mimetype": "text/x-python",
   "name": "python",
   "nbconvert_exporter": "python",
   "pygments_lexer": "ipython3",
   "version": "3.10.0"
  }
 },
 "nbformat": 4,
 "nbformat_minor": 0
}
