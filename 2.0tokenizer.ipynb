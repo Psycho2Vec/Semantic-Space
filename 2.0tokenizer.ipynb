{
 "cells": [
  {
   "cell_type": "markdown",
   "metadata": {
    "id": "WlZeNbRMk_Fs"
   },
   "source": [
    "# Setting up"
   ]
  },
  {
   "cell_type": "code",
   "execution_count": null,
   "metadata": {},
   "outputs": [],
   "source": [
    "! pip install nltk\n"
   ]
  },
  {
   "cell_type": "code",
   "execution_count": null,
   "metadata": {},
   "outputs": [],
   "source": [
    "# Define the current path\n",
    "from pathlib import Path\n",
    "root = Path.cwd() / 'data'\n"
   ]
  },
  {
   "cell_type": "code",
   "execution_count": null,
   "metadata": {},
   "outputs": [],
   "source": [
    "# define the local path\n",
    "txt_path = root / '1.0txt'\n",
    "meld_path = root / '1.1meld' / 'meld.txt'\n"
   ]
  },
  {
   "cell_type": "markdown",
   "metadata": {},
   "source": [
    "# Define func"
   ]
  },
  {
   "cell_type": "code",
   "execution_count": null,
   "metadata": {},
   "outputs": [],
   "source": [
    "\n",
    "import nltk\n",
    "import string\n",
    "import re\n",
    "\n",
    "from nltk.tokenize import sent_tokenize, word_tokenize\n",
    "from nltk.corpus import stopwords\n",
    "from nltk.stem import WordNetLemmatizer\n",
    "\n",
    "\n",
    "def token(path):\n",
    "    \"\"\"import text and return nested list of words\"\"\"\n",
    "    token_list = []\n",
    "    stopWords = set(stopwords.words('english'))\n",
    "    lemmatizer = WordNetLemmatizer()\n",
    "\n",
    "    with open(path)as s:\n",
    "        sent = sent_tokenize(s.read())  # Create Sentences list\n",
    "        for i in sent:\n",
    "            wordsFiltered = []\n",
    "            words = word_tokenize(i)  # create words list\n",
    "            for w in words:\n",
    "                w = w.lower()  # Lowercase\n",
    "                w = re.sub(r'\\d+', '', w)  # Remove number\n",
    "                w = w.strip(string.punctuation)  # Remove punctuation\n",
    "                if w not in stopWords and w not in string.punctuation:\n",
    "                    w = lemmatizer.lemmatize(w)\n",
    "                    wordsFiltered.append(w)\n",
    "\n",
    "            token_list.append(wordsFiltered)\n",
    "\n",
    "    return token_list\n"
   ]
  },
  {
   "cell_type": "markdown",
   "metadata": {},
   "source": [
    "# Save list of each disp"
   ]
  },
  {
   "cell_type": "code",
   "execution_count": null,
   "metadata": {},
   "outputs": [],
   "source": [
    "import pickle\n",
    "from glob import glob\n",
    "\n",
    "texts = glob(str(txt_path / '*.txt'))\n",
    "for i in texts:\n",
    "    with open(str(i).replace('.txt', '.pkl'), 'wb')as new:\n",
    "        pickle.dump(token(i), new)\n"
   ]
  },
  {
   "cell_type": "markdown",
   "metadata": {},
   "source": [
    "# Save list of all words"
   ]
  },
  {
   "cell_type": "code",
   "execution_count": null,
   "metadata": {},
   "outputs": [],
   "source": [
    "with open(str(meld_path).replace('.txt', '.pkl'), 'wb')as new:\n",
    "    pickle.dump(token(meld_path), new)\n"
   ]
  }
 ],
 "metadata": {
  "interpreter": {
   "hash": "93cd10a7ee3ad5cbfbc699d9f774152a8cab4800efb465aa25a14b227e47145e"
  },
  "kernelspec": {
   "display_name": "Python 3.9.8 64-bit ('3.9.8': pyenv)",
   "language": "python",
   "name": "python3"
  },
  "language_info": {
   "codemirror_mode": {
    "name": "ipython",
    "version": 3
   },
   "file_extension": ".py",
   "mimetype": "text/x-python",
   "name": "python",
   "nbconvert_exporter": "python",
   "pygments_lexer": "ipython3",
   "version": "3.10.0"
  },
  "orig_nbformat": 4
 },
 "nbformat": 4,
 "nbformat_minor": 2
}
